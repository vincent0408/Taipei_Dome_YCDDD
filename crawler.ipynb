{
 "cells": [
  {
   "cell_type": "code",
   "execution_count": 5,
   "metadata": {},
   "outputs": [],
   "source": [
    "import undetected_chromedriver as uc\n",
    "from selenium.webdriver.common.by import By\n",
    "from selenium.webdriver.support.wait import WebDriverWait\n",
    "from selenium.webdriver.support import expected_conditions as EC\n",
    "import cv2\n",
    "import numpy as np\n",
    "import matplotlib.pyplot as plt\n",
    "import ddddocr\n"
   ]
  },
  {
   "cell_type": "code",
   "execution_count": 6,
   "metadata": {},
   "outputs": [],
   "source": [
    "options = uc.ChromeOptions()\n",
    "url = 'https://tixcraft.com/activity/detail/23_abc30'\n",
    "driver = uc.Chrome()\n",
    "driver.maximize_window()\n",
    "driver.get(url)"
   ]
  },
  {
   "cell_type": "code",
   "execution_count": 77,
   "metadata": {},
   "outputs": [],
   "source": [
    "def wait_until(css_selector, wait=10, mode=0, all=False, element=driver):\n",
    "    if(mode == 0 and not all):\n",
    "        return WebDriverWait(element, wait).until(EC.presence_of_element_located((By.CSS_SELECTOR, css_selector)))\n",
    "    elif(mode == 0 and all):\n",
    "        return WebDriverWait(element, wait).until(EC.presence_of_all_elements_located((By.CSS_SELECTOR, css_selector)))\n",
    "    elif(mode == 1 and not all):\n",
    "        return WebDriverWait(element, wait).until(EC.visibility_of_element_located((By.CSS_SELECTOR, css_selector)))\n",
    "    elif(mode == 1 and all):\n",
    "        return WebDriverWait(element, wait).until(EC.visibility_of_all_elements_located((By.CSS_SELECTOR, css_selector)))\n"
   ]
  },
  {
   "cell_type": "code",
   "execution_count": 8,
   "metadata": {},
   "outputs": [],
   "source": [
    "creds = []\n",
    "with open('./credentials') as f:\n",
    "    for cred in f.readlines():\n",
    "        creds.append(cred.strip().split('=')[-1])\n",
    "email, pw = creds"
   ]
  },
  {
   "cell_type": "code",
   "execution_count": 9,
   "metadata": {},
   "outputs": [],
   "source": [
    "wait_until(\"button[id='onetrust-reject-all-handler']\", mode=1).click()\n",
    "wait_until(\"a[href='#login']\").click()\n",
    "wait_until(\"a[id='loginGoogle']\", mode=1).click()\n",
    "wait_until(\"input[type='email']\", mode=1).send_keys(email)\n",
    "wait_until(\"button[jsname='LgbsSe'][data-idom-class='nCP5yc AjY5Oe DuMIQc LQeN7 qIypjc TrZEUc lw1w4b']\").click()\n",
    "wait_until(\"input[type='password']\", mode=1).send_keys(pw)\n",
    "wait_until(\"button[jsname='LgbsSe'][data-idom-class='nCP5yc AjY5Oe DuMIQc LQeN7 qIypjc TrZEUc lw1w4b']\").click()\n"
   ]
  },
  {
   "cell_type": "code",
   "execution_count": 42,
   "metadata": {},
   "outputs": [],
   "source": [
    "event_name = 'Palestine - CHINESE TAIPEI'\n",
    "event_date_time = ['2023/12/05', '18:30']\n",
    "section_name = '南F區'\n",
    "price = '500'\n",
    "ticket_amount = 4"
   ]
  },
  {
   "cell_type": "code",
   "execution_count": 75,
   "metadata": {},
   "outputs": [],
   "source": [
    "wait_until(\"a[target='_new']\", wait=60).click()\n",
    "found_match_event = False\n",
    "for i, tr in enumerate(wait_until('tbody > tr', all=True, mode=1)):\n",
    "    dt_check, event_check = False, False\n",
    "    td_lst = tr.find_elements(By.CSS_SELECTOR, 'td')\n",
    "    for j, td in enumerate(td_lst):\n",
    "        if(j == 0):\n",
    "            row_texts = td.text.split(' ')\n",
    "            row_texts.pop(1)\n",
    "            if(row_texts != event_date_time):\n",
    "                break\n",
    "            else:\n",
    "                dt_check = True\n",
    "        elif(j == 1):\n",
    "            if(td.text != event_name):\n",
    "                break\n",
    "            else:\n",
    "                event_check = True\n",
    "        if(dt_check and event_check):\n",
    "            buy_event = td_lst[-1]\n",
    "            found_match_event = True\n",
    "    if(found_match_event):\n",
    "        break\n",
    "buy_event.click()\n"
   ]
  },
  {
   "cell_type": "code",
   "execution_count": 76,
   "metadata": {},
   "outputs": [
    {
     "ename": "ElementClickInterceptedException",
     "evalue": "Message: element click intercepted: Element is not clickable at point (1054, 893)\n  (Session info: chrome=119.0.6045.199)\nStacktrace:\n0   undetected_chromedriver             0x0000000100fc1d28 undetected_chromedriver + 4795688\n1   undetected_chromedriver             0x0000000100fb92b3 undetected_chromedriver + 4760243\n2   undetected_chromedriver             0x0000000100b9288d undetected_chromedriver + 407693\n3   undetected_chromedriver             0x0000000100be938a undetected_chromedriver + 762762\n4   undetected_chromedriver             0x0000000100be6d0b undetected_chromedriver + 752907\n5   undetected_chromedriver             0x0000000100be4174 undetected_chromedriver + 741748\n6   undetected_chromedriver             0x0000000100be2e89 undetected_chromedriver + 736905\n7   undetected_chromedriver             0x0000000100bd53fa undetected_chromedriver + 680954\n8   undetected_chromedriver             0x0000000100c08ca2 undetected_chromedriver + 892066\n9   undetected_chromedriver             0x0000000100bd4c63 undetected_chromedriver + 679011\n10  undetected_chromedriver             0x0000000100c08e5e undetected_chromedriver + 892510\n11  undetected_chromedriver             0x0000000100c24b2b undetected_chromedriver + 1006379\n12  undetected_chromedriver             0x0000000100c08a73 undetected_chromedriver + 891507\n13  undetected_chromedriver             0x0000000100bd3143 undetected_chromedriver + 672067\n14  undetected_chromedriver             0x0000000100bd431e undetected_chromedriver + 676638\n15  undetected_chromedriver             0x0000000100f82795 undetected_chromedriver + 4536213\n16  undetected_chromedriver             0x0000000100f87853 undetected_chromedriver + 4556883\n17  undetected_chromedriver             0x0000000100f68001 undetected_chromedriver + 4427777\n18  undetected_chromedriver             0x0000000100f8859d undetected_chromedriver + 4560285\n19  undetected_chromedriver             0x0000000100f5948c undetected_chromedriver + 4367500\n20  undetected_chromedriver             0x0000000100fa80e8 undetected_chromedriver + 4690152\n21  undetected_chromedriver             0x0000000100fa829e undetected_chromedriver + 4690590\n22  undetected_chromedriver             0x0000000100fb8eee undetected_chromedriver + 4759278\n23  libsystem_pthread.dylib             0x00007ff8173654e1 _pthread_start + 125\n24  libsystem_pthread.dylib             0x00007ff817360f6b thread_start + 15\n",
     "output_type": "error",
     "traceback": [
      "\u001b[0;31m---------------------------------------------------------------------------\u001b[0m",
      "\u001b[0;31mElementClickInterceptedException\u001b[0m          Traceback (most recent call last)",
      "\u001b[1;32m/Users/vincent/Documents/Github/Taipei_Dome_YCDDD/crawler.ipynb Cell 8\u001b[0m line \u001b[0;36m5\n\u001b[1;32m      <a href='vscode-notebook-cell:/Users/vincent/Documents/Github/Taipei_Dome_YCDDD/crawler.ipynb#X15sZmlsZQ%3D%3D?line=2'>3</a>\u001b[0m \u001b[39mfor\u001b[39;00m section \u001b[39min\u001b[39;00m group\u001b[39m.\u001b[39mfind_elements(By\u001b[39m.\u001b[39mCSS_SELECTOR, \u001b[39m\"\u001b[39m\u001b[39mli\u001b[39m\u001b[39m\"\u001b[39m):\n\u001b[1;32m      <a href='vscode-notebook-cell:/Users/vincent/Documents/Github/Taipei_Dome_YCDDD/crawler.ipynb#X15sZmlsZQ%3D%3D?line=3'>4</a>\u001b[0m     \u001b[39mif\u001b[39;00m(section\u001b[39m.\u001b[39mtext\u001b[39m.\u001b[39mfind(section_name) \u001b[39m!=\u001b[39m \u001b[39m-\u001b[39m\u001b[39m1\u001b[39m):\n\u001b[0;32m----> <a href='vscode-notebook-cell:/Users/vincent/Documents/Github/Taipei_Dome_YCDDD/crawler.ipynb#X15sZmlsZQ%3D%3D?line=4'>5</a>\u001b[0m         WebDriverWait(section, \u001b[39m10\u001b[39;49m)\u001b[39m.\u001b[39;49muntil(EC\u001b[39m.\u001b[39;49melement_to_be_clickable((By\u001b[39m.\u001b[39;49mCSS_SELECTOR, \u001b[39m\"\u001b[39;49m\u001b[39ma\u001b[39;49m\u001b[39m\"\u001b[39;49m)))\u001b[39m.\u001b[39;49mclick()\n\u001b[1;32m      <a href='vscode-notebook-cell:/Users/vincent/Documents/Github/Taipei_Dome_YCDDD/crawler.ipynb#X15sZmlsZQ%3D%3D?line=5'>6</a>\u001b[0m         found_match_section \u001b[39m=\u001b[39m \u001b[39mTrue\u001b[39;00m\n\u001b[1;32m      <a href='vscode-notebook-cell:/Users/vincent/Documents/Github/Taipei_Dome_YCDDD/crawler.ipynb#X15sZmlsZQ%3D%3D?line=6'>7</a>\u001b[0m         \u001b[39mprint\u001b[39m(\u001b[39m'\u001b[39m\u001b[39mfound\u001b[39m\u001b[39m'\u001b[39m)\n",
      "File \u001b[0;32m/Library/Frameworks/Python.framework/Versions/3.10/lib/python3.10/site-packages/selenium/webdriver/remote/webelement.py:93\u001b[0m, in \u001b[0;36mWebElement.click\u001b[0;34m(self)\u001b[0m\n\u001b[1;32m     91\u001b[0m \u001b[39mdef\u001b[39;00m \u001b[39mclick\u001b[39m(\u001b[39mself\u001b[39m) \u001b[39m-\u001b[39m\u001b[39m>\u001b[39m \u001b[39mNone\u001b[39;00m:\n\u001b[1;32m     92\u001b[0m     \u001b[39m\"\"\"Clicks the element.\"\"\"\u001b[39;00m\n\u001b[0;32m---> 93\u001b[0m     \u001b[39mself\u001b[39;49m\u001b[39m.\u001b[39;49m_execute(Command\u001b[39m.\u001b[39;49mCLICK_ELEMENT)\n",
      "File \u001b[0;32m/Library/Frameworks/Python.framework/Versions/3.10/lib/python3.10/site-packages/selenium/webdriver/remote/webelement.py:394\u001b[0m, in \u001b[0;36mWebElement._execute\u001b[0;34m(self, command, params)\u001b[0m\n\u001b[1;32m    392\u001b[0m     params \u001b[39m=\u001b[39m {}\n\u001b[1;32m    393\u001b[0m params[\u001b[39m\"\u001b[39m\u001b[39mid\u001b[39m\u001b[39m\"\u001b[39m] \u001b[39m=\u001b[39m \u001b[39mself\u001b[39m\u001b[39m.\u001b[39m_id\n\u001b[0;32m--> 394\u001b[0m \u001b[39mreturn\u001b[39;00m \u001b[39mself\u001b[39;49m\u001b[39m.\u001b[39;49m_parent\u001b[39m.\u001b[39;49mexecute(command, params)\n",
      "File \u001b[0;32m/Library/Frameworks/Python.framework/Versions/3.10/lib/python3.10/site-packages/selenium/webdriver/remote/webdriver.py:347\u001b[0m, in \u001b[0;36mWebDriver.execute\u001b[0;34m(self, driver_command, params)\u001b[0m\n\u001b[1;32m    345\u001b[0m response \u001b[39m=\u001b[39m \u001b[39mself\u001b[39m\u001b[39m.\u001b[39mcommand_executor\u001b[39m.\u001b[39mexecute(driver_command, params)\n\u001b[1;32m    346\u001b[0m \u001b[39mif\u001b[39;00m response:\n\u001b[0;32m--> 347\u001b[0m     \u001b[39mself\u001b[39;49m\u001b[39m.\u001b[39;49merror_handler\u001b[39m.\u001b[39;49mcheck_response(response)\n\u001b[1;32m    348\u001b[0m     response[\u001b[39m\"\u001b[39m\u001b[39mvalue\u001b[39m\u001b[39m\"\u001b[39m] \u001b[39m=\u001b[39m \u001b[39mself\u001b[39m\u001b[39m.\u001b[39m_unwrap_value(response\u001b[39m.\u001b[39mget(\u001b[39m\"\u001b[39m\u001b[39mvalue\u001b[39m\u001b[39m\"\u001b[39m, \u001b[39mNone\u001b[39;00m))\n\u001b[1;32m    349\u001b[0m     \u001b[39mreturn\u001b[39;00m response\n",
      "File \u001b[0;32m/Library/Frameworks/Python.framework/Versions/3.10/lib/python3.10/site-packages/selenium/webdriver/remote/errorhandler.py:229\u001b[0m, in \u001b[0;36mErrorHandler.check_response\u001b[0;34m(self, response)\u001b[0m\n\u001b[1;32m    227\u001b[0m         alert_text \u001b[39m=\u001b[39m value[\u001b[39m\"\u001b[39m\u001b[39malert\u001b[39m\u001b[39m\"\u001b[39m]\u001b[39m.\u001b[39mget(\u001b[39m\"\u001b[39m\u001b[39mtext\u001b[39m\u001b[39m\"\u001b[39m)\n\u001b[1;32m    228\u001b[0m     \u001b[39mraise\u001b[39;00m exception_class(message, screen, stacktrace, alert_text)  \u001b[39m# type: ignore[call-arg]  # mypy is not smart enough here\u001b[39;00m\n\u001b[0;32m--> 229\u001b[0m \u001b[39mraise\u001b[39;00m exception_class(message, screen, stacktrace)\n",
      "\u001b[0;31mElementClickInterceptedException\u001b[0m: Message: element click intercepted: Element is not clickable at point (1054, 893)\n  (Session info: chrome=119.0.6045.199)\nStacktrace:\n0   undetected_chromedriver             0x0000000100fc1d28 undetected_chromedriver + 4795688\n1   undetected_chromedriver             0x0000000100fb92b3 undetected_chromedriver + 4760243\n2   undetected_chromedriver             0x0000000100b9288d undetected_chromedriver + 407693\n3   undetected_chromedriver             0x0000000100be938a undetected_chromedriver + 762762\n4   undetected_chromedriver             0x0000000100be6d0b undetected_chromedriver + 752907\n5   undetected_chromedriver             0x0000000100be4174 undetected_chromedriver + 741748\n6   undetected_chromedriver             0x0000000100be2e89 undetected_chromedriver + 736905\n7   undetected_chromedriver             0x0000000100bd53fa undetected_chromedriver + 680954\n8   undetected_chromedriver             0x0000000100c08ca2 undetected_chromedriver + 892066\n9   undetected_chromedriver             0x0000000100bd4c63 undetected_chromedriver + 679011\n10  undetected_chromedriver             0x0000000100c08e5e undetected_chromedriver + 892510\n11  undetected_chromedriver             0x0000000100c24b2b undetected_chromedriver + 1006379\n12  undetected_chromedriver             0x0000000100c08a73 undetected_chromedriver + 891507\n13  undetected_chromedriver             0x0000000100bd3143 undetected_chromedriver + 672067\n14  undetected_chromedriver             0x0000000100bd431e undetected_chromedriver + 676638\n15  undetected_chromedriver             0x0000000100f82795 undetected_chromedriver + 4536213\n16  undetected_chromedriver             0x0000000100f87853 undetected_chromedriver + 4556883\n17  undetected_chromedriver             0x0000000100f68001 undetected_chromedriver + 4427777\n18  undetected_chromedriver             0x0000000100f8859d undetected_chromedriver + 4560285\n19  undetected_chromedriver             0x0000000100f5948c undetected_chromedriver + 4367500\n20  undetected_chromedriver             0x0000000100fa80e8 undetected_chromedriver + 4690152\n21  undetected_chromedriver             0x0000000100fa829e undetected_chromedriver + 4690590\n22  undetected_chromedriver             0x0000000100fb8eee undetected_chromedriver + 4759278\n23  libsystem_pthread.dylib             0x00007ff8173654e1 _pthread_start + 125\n24  libsystem_pthread.dylib             0x00007ff817360f6b thread_start + 15\n"
     ]
    }
   ],
   "source": [
    "\n",
    "found_match_section = False\n",
    "for group in wait_until(\"div[class='zone area-list'] > ul\", all=True, mode=1):\n",
    "    for section in wait_until():\n",
    "        if(section.text.find(section_name) != -1):\n",
    "            WebDriverWait(section, 10).until(EC.element_to_be_clickable((By.CSS_SELECTOR, \"a\"))).click()\n",
    "            found_match_section = True\n",
    "            print('found')\n",
    "            break\n",
    "    if(found_match_section):\n",
    "        break\n",
    "            \n"
   ]
  },
  {
   "cell_type": "code",
   "execution_count": null,
   "metadata": {},
   "outputs": [],
   "source": [
    "wait_until(f\"option[value='{ticket_amount}']\", all=True)[0].click()"
   ]
  },
  {
   "cell_type": "code",
   "execution_count": null,
   "metadata": {},
   "outputs": [],
   "source": [
    "n = 3\n",
    "with open('captcha.png', 'wb') as f:\n",
    "    f.write(wait_until(\"img[id='TicketForm_verifyCode-image']\").screenshot_as_png)\n",
    "img = cv2.imread('captcha.png', 0)\n",
    "img = cv2.erode(img, np.ones((n, n), np.uint8)) \n",
    "img = cv2.bitwise_not(img)\n",
    "cv2.imwrite('captcha_g.png', img)\n",
    "ocr = ddddocr.DdddOcr(show_ad=False)\n",
    "with open('captcha_g.png', 'rb') as f:\n",
    "    image_bytes = f.read()\n",
    "res = ocr.classification(image_bytes)\n",
    "print(res)"
   ]
  }
 ],
 "metadata": {
  "kernelspec": {
   "display_name": "Python 3",
   "language": "python",
   "name": "python3"
  },
  "language_info": {
   "codemirror_mode": {
    "name": "ipython",
    "version": 3
   },
   "file_extension": ".py",
   "mimetype": "text/x-python",
   "name": "python",
   "nbconvert_exporter": "python",
   "pygments_lexer": "ipython3",
   "version": "3.10.8"
  }
 },
 "nbformat": 4,
 "nbformat_minor": 2
}
