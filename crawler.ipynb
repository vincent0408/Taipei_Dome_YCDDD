{
 "cells": [
  {
   "cell_type": "code",
   "execution_count": 38,
   "metadata": {},
   "outputs": [],
   "source": [
    "import undetected_chromedriver as uc\n",
    "from selenium.webdriver.common.by import By\n",
    "from selenium.webdriver.support.wait import WebDriverWait\n",
    "from selenium.webdriver.support import expected_conditions as EC"
   ]
  },
  {
   "cell_type": "code",
   "execution_count": 39,
   "metadata": {},
   "outputs": [],
   "source": [
    "options = uc.ChromeOptions()\n",
    "url = 'https://tixcraft.com/activity/detail/23_abc30'\n",
    "driver = uc.Chrome()\n",
    "driver.get(url)"
   ]
  },
  {
   "cell_type": "code",
   "execution_count": 41,
   "metadata": {},
   "outputs": [],
   "source": [
    "WebDriverWait(driver, 10).until(EC.presence_of_element_located((By.CSS_SELECTOR, \"a[href='#login']\"))).click()"
   ]
  },
  {
   "cell_type": "code",
   "execution_count": 42,
   "metadata": {},
   "outputs": [],
   "source": [
    "WebDriverWait(driver, 10).until(EC.presence_of_element_located((By.CSS_SELECTOR, \"a[id='loginGoogle']\"))).click()\n"
   ]
  },
  {
   "cell_type": "code",
   "execution_count": 48,
   "metadata": {},
   "outputs": [
    {
     "ename": "ElementNotInteractableException",
     "evalue": "Message: element not interactable\n  (Session info: chrome=119.0.6045.199)\nStacktrace:\n0   undetected_chromedriver             0x000000010278ed28 undetected_chromedriver + 4795688\n1   undetected_chromedriver             0x00000001027862b3 undetected_chromedriver + 4760243\n2   undetected_chromedriver             0x000000010235f6bd undetected_chromedriver + 407229\n3   undetected_chromedriver             0x00000001023afb43 undetected_chromedriver + 736067\n4   undetected_chromedriver             0x00000001023a23fa undetected_chromedriver + 680954\n5   undetected_chromedriver             0x00000001023d5ca2 undetected_chromedriver + 892066\n6   undetected_chromedriver             0x00000001023a1c63 undetected_chromedriver + 679011\n7   undetected_chromedriver             0x00000001023d5e5e undetected_chromedriver + 892510\n8   undetected_chromedriver             0x00000001023f1b2b undetected_chromedriver + 1006379\n9   undetected_chromedriver             0x00000001023d5a73 undetected_chromedriver + 891507\n10  undetected_chromedriver             0x00000001023a0143 undetected_chromedriver + 672067\n11  undetected_chromedriver             0x00000001023a131e undetected_chromedriver + 676638\n12  undetected_chromedriver             0x000000010274f795 undetected_chromedriver + 4536213\n13  undetected_chromedriver             0x0000000102754853 undetected_chromedriver + 4556883\n14  undetected_chromedriver             0x0000000102735001 undetected_chromedriver + 4427777\n15  undetected_chromedriver             0x000000010275559d undetected_chromedriver + 4560285\n16  undetected_chromedriver             0x000000010272648c undetected_chromedriver + 4367500\n17  undetected_chromedriver             0x00000001027750e8 undetected_chromedriver + 4690152\n18  undetected_chromedriver             0x000000010277529e undetected_chromedriver + 4690590\n19  undetected_chromedriver             0x0000000102785eee undetected_chromedriver + 4759278\n20  libsystem_pthread.dylib             0x00007ff8173654e1 _pthread_start + 125\n21  libsystem_pthread.dylib             0x00007ff817360f6b thread_start + 15\n",
     "output_type": "error",
     "traceback": [
      "\u001b[0;31m---------------------------------------------------------------------------\u001b[0m",
      "\u001b[0;31mElementNotInteractableException\u001b[0m           Traceback (most recent call last)",
      "\u001b[1;32m/Users/vincent/Documents/Github/Taipei_Dome_YCDDD/crawler.ipynb Cell 5\u001b[0m line \u001b[0;36m2\n\u001b[1;32m      <a href='vscode-notebook-cell:/Users/vincent/Documents/Github/Taipei_Dome_YCDDD/crawler.ipynb#W6sZmlsZQ%3D%3D?line=0'>1</a>\u001b[0m driver\u001b[39m.\u001b[39mfind_element(By\u001b[39m.\u001b[39mCSS_SELECTOR, \u001b[39m\"\u001b[39m\u001b[39minput[class=\u001b[39m\u001b[39m'\u001b[39m\u001b[39mwhsOnd zHQkBf\u001b[39m\u001b[39m'\u001b[39m\u001b[39m]\u001b[39m\u001b[39m\"\u001b[39m)\u001b[39m.\u001b[39msend_keys(\u001b[39m'\u001b[39m\u001b[39mtnecniv43208\u001b[39m\u001b[39m'\u001b[39m)\n\u001b[0;32m----> <a href='vscode-notebook-cell:/Users/vincent/Documents/Github/Taipei_Dome_YCDDD/crawler.ipynb#W6sZmlsZQ%3D%3D?line=1'>2</a>\u001b[0m driver\u001b[39m.\u001b[39;49mfind_element(By\u001b[39m.\u001b[39;49mCSS_SELECTOR, \u001b[39m\"\u001b[39;49m\u001b[39mdiv[class=\u001b[39;49m\u001b[39m'\u001b[39;49m\u001b[39mVfPpkd-RLmnJb\u001b[39;49m\u001b[39m'\u001b[39;49m\u001b[39m]\u001b[39;49m\u001b[39m\"\u001b[39;49m)\u001b[39m.\u001b[39;49mclick()\n",
      "File \u001b[0;32m/Library/Frameworks/Python.framework/Versions/3.10/lib/python3.10/site-packages/selenium/webdriver/remote/webelement.py:93\u001b[0m, in \u001b[0;36mWebElement.click\u001b[0;34m(self)\u001b[0m\n\u001b[1;32m     91\u001b[0m \u001b[39mdef\u001b[39;00m \u001b[39mclick\u001b[39m(\u001b[39mself\u001b[39m) \u001b[39m-\u001b[39m\u001b[39m>\u001b[39m \u001b[39mNone\u001b[39;00m:\n\u001b[1;32m     92\u001b[0m     \u001b[39m\"\"\"Clicks the element.\"\"\"\u001b[39;00m\n\u001b[0;32m---> 93\u001b[0m     \u001b[39mself\u001b[39;49m\u001b[39m.\u001b[39;49m_execute(Command\u001b[39m.\u001b[39;49mCLICK_ELEMENT)\n",
      "File \u001b[0;32m/Library/Frameworks/Python.framework/Versions/3.10/lib/python3.10/site-packages/selenium/webdriver/remote/webelement.py:394\u001b[0m, in \u001b[0;36mWebElement._execute\u001b[0;34m(self, command, params)\u001b[0m\n\u001b[1;32m    392\u001b[0m     params \u001b[39m=\u001b[39m {}\n\u001b[1;32m    393\u001b[0m params[\u001b[39m\"\u001b[39m\u001b[39mid\u001b[39m\u001b[39m\"\u001b[39m] \u001b[39m=\u001b[39m \u001b[39mself\u001b[39m\u001b[39m.\u001b[39m_id\n\u001b[0;32m--> 394\u001b[0m \u001b[39mreturn\u001b[39;00m \u001b[39mself\u001b[39;49m\u001b[39m.\u001b[39;49m_parent\u001b[39m.\u001b[39;49mexecute(command, params)\n",
      "File \u001b[0;32m/Library/Frameworks/Python.framework/Versions/3.10/lib/python3.10/site-packages/selenium/webdriver/remote/webdriver.py:347\u001b[0m, in \u001b[0;36mWebDriver.execute\u001b[0;34m(self, driver_command, params)\u001b[0m\n\u001b[1;32m    345\u001b[0m response \u001b[39m=\u001b[39m \u001b[39mself\u001b[39m\u001b[39m.\u001b[39mcommand_executor\u001b[39m.\u001b[39mexecute(driver_command, params)\n\u001b[1;32m    346\u001b[0m \u001b[39mif\u001b[39;00m response:\n\u001b[0;32m--> 347\u001b[0m     \u001b[39mself\u001b[39;49m\u001b[39m.\u001b[39;49merror_handler\u001b[39m.\u001b[39;49mcheck_response(response)\n\u001b[1;32m    348\u001b[0m     response[\u001b[39m\"\u001b[39m\u001b[39mvalue\u001b[39m\u001b[39m\"\u001b[39m] \u001b[39m=\u001b[39m \u001b[39mself\u001b[39m\u001b[39m.\u001b[39m_unwrap_value(response\u001b[39m.\u001b[39mget(\u001b[39m\"\u001b[39m\u001b[39mvalue\u001b[39m\u001b[39m\"\u001b[39m, \u001b[39mNone\u001b[39;00m))\n\u001b[1;32m    349\u001b[0m     \u001b[39mreturn\u001b[39;00m response\n",
      "File \u001b[0;32m/Library/Frameworks/Python.framework/Versions/3.10/lib/python3.10/site-packages/selenium/webdriver/remote/errorhandler.py:229\u001b[0m, in \u001b[0;36mErrorHandler.check_response\u001b[0;34m(self, response)\u001b[0m\n\u001b[1;32m    227\u001b[0m         alert_text \u001b[39m=\u001b[39m value[\u001b[39m\"\u001b[39m\u001b[39malert\u001b[39m\u001b[39m\"\u001b[39m]\u001b[39m.\u001b[39mget(\u001b[39m\"\u001b[39m\u001b[39mtext\u001b[39m\u001b[39m\"\u001b[39m)\n\u001b[1;32m    228\u001b[0m     \u001b[39mraise\u001b[39;00m exception_class(message, screen, stacktrace, alert_text)  \u001b[39m# type: ignore[call-arg]  # mypy is not smart enough here\u001b[39;00m\n\u001b[0;32m--> 229\u001b[0m \u001b[39mraise\u001b[39;00m exception_class(message, screen, stacktrace)\n",
      "\u001b[0;31mElementNotInteractableException\u001b[0m: Message: element not interactable\n  (Session info: chrome=119.0.6045.199)\nStacktrace:\n0   undetected_chromedriver             0x000000010278ed28 undetected_chromedriver + 4795688\n1   undetected_chromedriver             0x00000001027862b3 undetected_chromedriver + 4760243\n2   undetected_chromedriver             0x000000010235f6bd undetected_chromedriver + 407229\n3   undetected_chromedriver             0x00000001023afb43 undetected_chromedriver + 736067\n4   undetected_chromedriver             0x00000001023a23fa undetected_chromedriver + 680954\n5   undetected_chromedriver             0x00000001023d5ca2 undetected_chromedriver + 892066\n6   undetected_chromedriver             0x00000001023a1c63 undetected_chromedriver + 679011\n7   undetected_chromedriver             0x00000001023d5e5e undetected_chromedriver + 892510\n8   undetected_chromedriver             0x00000001023f1b2b undetected_chromedriver + 1006379\n9   undetected_chromedriver             0x00000001023d5a73 undetected_chromedriver + 891507\n10  undetected_chromedriver             0x00000001023a0143 undetected_chromedriver + 672067\n11  undetected_chromedriver             0x00000001023a131e undetected_chromedriver + 676638\n12  undetected_chromedriver             0x000000010274f795 undetected_chromedriver + 4536213\n13  undetected_chromedriver             0x0000000102754853 undetected_chromedriver + 4556883\n14  undetected_chromedriver             0x0000000102735001 undetected_chromedriver + 4427777\n15  undetected_chromedriver             0x000000010275559d undetected_chromedriver + 4560285\n16  undetected_chromedriver             0x000000010272648c undetected_chromedriver + 4367500\n17  undetected_chromedriver             0x00000001027750e8 undetected_chromedriver + 4690152\n18  undetected_chromedriver             0x000000010277529e undetected_chromedriver + 4690590\n19  undetected_chromedriver             0x0000000102785eee undetected_chromedriver + 4759278\n20  libsystem_pthread.dylib             0x00007ff8173654e1 _pthread_start + 125\n21  libsystem_pthread.dylib             0x00007ff817360f6b thread_start + 15\n"
     ]
    }
   ],
   "source": [
    "driver.find_element(By.CSS_SELECTOR, \"input[class='whsOnd zHQkBf']\").send_keys('tnecniv43208')\n",
    "driver.find_element(By.CSS_SELECTOR, \"span[class='VfPpkd-RLmnJb']\").click()"
   ]
  }
 ],
 "metadata": {
  "kernelspec": {
   "display_name": "Python 3",
   "language": "python",
   "name": "python3"
  },
  "language_info": {
   "codemirror_mode": {
    "name": "ipython",
    "version": 3
   },
   "file_extension": ".py",
   "mimetype": "text/x-python",
   "name": "python",
   "nbconvert_exporter": "python",
   "pygments_lexer": "ipython3",
   "version": "3.10.8"
  }
 },
 "nbformat": 4,
 "nbformat_minor": 2
}
