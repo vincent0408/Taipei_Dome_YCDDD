{
 "cells": [
  {
   "cell_type": "code",
   "execution_count": 10,
   "metadata": {},
   "outputs": [],
   "source": [
    "import undetected_chromedriver as uc\n",
    "from selenium.webdriver.common.by import By\n",
    "from selenium.webdriver.support.wait import WebDriverWait\n",
    "from selenium.webdriver.support import expected_conditions as EC\n",
    "import cv2\n",
    "import numpy as np\n",
    "import matplotlib.pyplot as plt\n",
    "import ddddocr\n"
   ]
  },
  {
   "cell_type": "code",
   "execution_count": 11,
   "metadata": {},
   "outputs": [],
   "source": [
    "options = uc.ChromeOptions()\n",
    "url = 'https://tixcraft.com/activity/detail/23_abc30'\n",
    "driver = uc.Chrome()\n",
    "driver.maximize_window()\n",
    "driver.get(url)"
   ]
  },
  {
   "cell_type": "code",
   "execution_count": 12,
   "metadata": {},
   "outputs": [],
   "source": [
    "def wait_until(css_selector, wait=10, mode=0, all=False, element=driver):\n",
    "    if(mode == 0 and not all):\n",
    "        return WebDriverWait(element, wait).until(EC.presence_of_element_located((By.CSS_SELECTOR, css_selector)))\n",
    "    elif(mode == 0 and all):\n",
    "        return WebDriverWait(element, wait).until(EC.presence_of_all_elements_located((By.CSS_SELECTOR, css_selector)))\n",
    "    elif(mode == 1 and not all):\n",
    "        return WebDriverWait(element, wait).until(EC.visibility_of_element_located((By.CSS_SELECTOR, css_selector)))\n",
    "    elif(mode == 1 and all):\n",
    "        return WebDriverWait(element, wait).until(EC.visibility_of_all_elements_located((By.CSS_SELECTOR, css_selector)))\n"
   ]
  },
  {
   "cell_type": "code",
   "execution_count": 13,
   "metadata": {},
   "outputs": [],
   "source": [
    "creds = []\n",
    "with open('./credentials') as f:\n",
    "    for cred in f.readlines():\n",
    "        creds.append(cred.strip().split('=')[-1])\n",
    "email, pw = creds\n",
    "event_name = 'Palestine - CHINESE TAIPEI'\n",
    "event_date_time = ['2023/12/05', '18:30']\n",
    "section_name = '南F區'\n",
    "price = '500'\n",
    "ticket_amount = 4\n",
    "n = 3"
   ]
  },
  {
   "cell_type": "code",
   "execution_count": 14,
   "metadata": {},
   "outputs": [],
   "source": [
    "wait_until(\"button[id='onetrust-reject-all-handler']\", mode=1).click()\n",
    "wait_until(\"a[href='#login']\").click()\n",
    "wait_until(\"a[id='loginGoogle']\", mode=1).click()\n",
    "wait_until(\"input[type='email']\", mode=1).send_keys(email)\n",
    "wait_until(\"button[jsname='LgbsSe'][data-idom-class='nCP5yc AjY5Oe DuMIQc LQeN7 qIypjc TrZEUc lw1w4b']\").click()\n",
    "wait_until(\"input[type='password']\", mode=1).send_keys(pw)\n",
    "wait_until(\"button[jsname='LgbsSe'][data-idom-class='nCP5yc AjY5Oe DuMIQc LQeN7 qIypjc TrZEUc lw1w4b']\").click()\n"
   ]
  },
  {
   "cell_type": "code",
   "execution_count": 16,
   "metadata": {},
   "outputs": [],
   "source": [
    "wait_until(\"a[target='_new']\", wait=600).click()\n",
    "found_match_event = False\n",
    "for i, tr in enumerate(wait_until('tbody > tr', all=True, mode=1)):\n",
    "    dt_check, event_check = False, False\n",
    "    td_lst = tr.find_elements(By.CSS_SELECTOR, 'td')\n",
    "    for j, td in enumerate(td_lst):\n",
    "        if(j == 0):\n",
    "            row_texts = td.text.split(' ')\n",
    "            row_texts.pop(1)\n",
    "            if(row_texts != event_date_time):\n",
    "                break\n",
    "            else:\n",
    "                dt_check = True\n",
    "        elif(j == 1):\n",
    "            if(td.text != event_name):\n",
    "                break\n",
    "            else:\n",
    "                event_check = True\n",
    "        if(dt_check and event_check):\n",
    "            buy_event = td_lst[-1]\n",
    "            found_match_event = True\n",
    "    if(found_match_event):\n",
    "        break\n",
    "while(True):\n",
    "    try:\n",
    "        WebDriverWait(driver, 10).until(EC.element_to_be_clickable(buy_event)).click()\n",
    "        break\n",
    "    except:\n",
    "        pass\n"
   ]
  },
  {
   "cell_type": "code",
   "execution_count": 17,
   "metadata": {},
   "outputs": [],
   "source": [
    "found_match_section = False\n",
    "for group in wait_until(\"div[class='zone area-list'] > ul\", all=True, mode=1):\n",
    "    for section in group.find_elements(By.CSS_SELECTOR, \"li\"):\n",
    "        if(section.text.find(section_name) != -1):\n",
    "            found_match_section = True\n",
    "            chosen_section = section.find_element(By.CSS_SELECTOR, \"a\")\n",
    "            break\n",
    "    if(found_match_section):\n",
    "        break\n",
    "while(True):\n",
    "    try:\n",
    "        WebDriverWait(driver, 10).until(EC.element_to_be_clickable(chosen_section)).click()\n",
    "        break\n",
    "    except:\n",
    "        pass\n",
    "\n"
   ]
  },
  {
   "cell_type": "code",
   "execution_count": 18,
   "metadata": {},
   "outputs": [
    {
     "name": "stdout",
     "output_type": "stream",
     "text": [
      "gupu\n",
      "thw\n",
      "uafu\n"
     ]
    }
   ],
   "source": [
    "while(True):\n",
    "    wait_until(f\"option[value='{ticket_amount}']\", all=True)[0].click()\n",
    "    with open('captcha.png', 'wb') as f:\n",
    "        f.write(wait_until(\"img[id='TicketForm_verifyCode-image']\").screenshot_as_png)\n",
    "    img = cv2.imread('captcha.png', 0)\n",
    "    img = cv2.erode(img, np.ones((n, n), np.uint8)) \n",
    "    img = cv2.bitwise_not(img)\n",
    "    cv2.imwrite('captcha_g.png', img)\n",
    "    ocr = ddddocr.DdddOcr(show_ad=False)\n",
    "    with open('captcha_g.png', 'rb') as f:\n",
    "        image_bytes = f.read()\n",
    "    captcha_result = ocr.classification(image_bytes)\n",
    "    print(captcha_result)\n",
    "    wait_until(\"input[id='TicketForm_verifyCode']\").send_keys(captcha_result)\n",
    "    wait_until(\"input[id='TicketForm_agree']\").click()\n",
    "    wait_until(\"button[class='btn btn-primary btn-green']\").click()\n",
    "    try:\n",
    "        WebDriverWait(driver, 10).until(EC.alert_is_present()).accept()\n",
    "    except:\n",
    "        break"
   ]
  }
 ],
 "metadata": {
  "kernelspec": {
   "display_name": "Python 3",
   "language": "python",
   "name": "python3"
  },
  "language_info": {
   "codemirror_mode": {
    "name": "ipython",
    "version": 3
   },
   "file_extension": ".py",
   "mimetype": "text/x-python",
   "name": "python",
   "nbconvert_exporter": "python",
   "pygments_lexer": "ipython3",
   "version": "3.10.8"
  }
 },
 "nbformat": 4,
 "nbformat_minor": 2
}
