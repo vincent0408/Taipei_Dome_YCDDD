{
 "cells": [
  {
   "cell_type": "code",
   "execution_count": 1,
   "metadata": {},
   "outputs": [],
   "source": [
    "import undetected_chromedriver as uc\n",
    "from selenium.webdriver.common.by import By\n",
    "from selenium.webdriver.support.wait import WebDriverWait\n",
    "from selenium.webdriver.support import expected_conditions as EC\n",
    "import pickle\n",
    "import ddddocr\n"
   ]
  },
  {
   "cell_type": "code",
   "execution_count": 9,
   "metadata": {},
   "outputs": [
    {
     "name": "stdout",
     "output_type": "stream",
     "text": [
      "2023年第30屆亞洲棒球錦標賽\n"
     ]
    }
   ],
   "source": [
    "event = '23_abc30'\n",
    "url = f'https://tixcraft.com/activity/detail/{event}'\n",
    "driver = uc.Chrome()\n",
    "driver.maximize_window()\n",
    "driver.get(url)\n",
    "print(driver.find_element(By.CSS_SELECTOR, \"h1\").text)"
   ]
  },
  {
   "cell_type": "code",
   "execution_count": 10,
   "metadata": {},
   "outputs": [],
   "source": [
    "creds = []\n",
    "with open('./credentials') as f:\n",
    "    for cred in f.readlines():\n",
    "        creds.append(cred.strip().split('=')[-1])\n",
    "email, pw = creds\n",
    "event_name = 'JAPAN - PHILIPPINES'\n",
    "event_date_time = ['2023/12/06', '12:30']\n",
    "section_keywords = ['B1', '108']\n",
    "price = '500'\n",
    "ticket_amount = 4\n",
    "n = 3\n",
    "buy_tickets = ['Find tickets', '立即購票']\n",
    "\n",
    "driver.delete_all_cookies()\n",
    "cookies = pickle.load(open(\"cookies.pkl\", \"rb\"))\n",
    "for cookie in cookies:\n",
    "    driver.add_cookie(cookie)\n",
    "driver.refresh()"
   ]
  },
  {
   "cell_type": "code",
   "execution_count": 2,
   "metadata": {},
   "outputs": [
    {
     "ename": "NameError",
     "evalue": "name 'driver' is not defined",
     "output_type": "error",
     "traceback": [
      "\u001b[1;31m---------------------------------------------------------------------------\u001b[0m",
      "\u001b[1;31mNameError\u001b[0m                                 Traceback (most recent call last)",
      "\u001b[1;32mc:\\Users\\Vincent\\Documents\\GitHub\\Taipei_Dome_YCDDD\\crawler.ipynb Cell 4\u001b[0m line \u001b[0;36m1\n\u001b[1;32m----> <a href='vscode-notebook-cell:/c%3A/Users/Vincent/Documents/GitHub/Taipei_Dome_YCDDD/crawler.ipynb#W3sZmlsZQ%3D%3D?line=0'>1</a>\u001b[0m captcha \u001b[39m=\u001b[39m WebDriverWait(driver, \u001b[39m5\u001b[39m)\u001b[39m.\u001b[39muntil(EC\u001b[39m.\u001b[39mvisibility_of_element_located((By\u001b[39m.\u001b[39mCSS_SELECTOR, \u001b[39m\"\u001b[39m\u001b[39mimg[id=\u001b[39m\u001b[39m'\u001b[39m\u001b[39mTicketForm_verifyCode-image\u001b[39m\u001b[39m'\u001b[39m\u001b[39m]\u001b[39m\u001b[39m\"\u001b[39m)))\n\u001b[0;32m      <a href='vscode-notebook-cell:/c%3A/Users/Vincent/Documents/GitHub/Taipei_Dome_YCDDD/crawler.ipynb#W3sZmlsZQ%3D%3D?line=1'>2</a>\u001b[0m \u001b[39mwith\u001b[39;00m \u001b[39mopen\u001b[39m(\u001b[39m'\u001b[39m\u001b[39mcaptcha.png\u001b[39m\u001b[39m'\u001b[39m, \u001b[39m'\u001b[39m\u001b[39mwb\u001b[39m\u001b[39m'\u001b[39m) \u001b[39mas\u001b[39;00m f:\n\u001b[0;32m      <a href='vscode-notebook-cell:/c%3A/Users/Vincent/Documents/GitHub/Taipei_Dome_YCDDD/crawler.ipynb#W3sZmlsZQ%3D%3D?line=2'>3</a>\u001b[0m     f\u001b[39m.\u001b[39mwrite(captcha\u001b[39m.\u001b[39mscreenshot_as_png)\n",
      "\u001b[1;31mNameError\u001b[0m: name 'driver' is not defined"
     ]
    }
   ],
   "source": [
    "captcha = WebDriverWait(driver, 5).until(EC.visibility_of_element_located((By.CSS_SELECTOR, \"img[id='TicketForm_verifyCode-image']\")))\n",
    "with open('captcha.png', 'wb') as f:\n",
    "    f.write(captcha.screenshot_as_png)\n",
    "ocr = ddddocr.DdddOcr(show_ad=False)\n",
    "with open('captcha_g.png', 'rb') as f:\n",
    "    image_bytes = f.read()\n",
    "ocr.classification(image_bytes)"
   ]
  }
 ],
 "metadata": {
  "kernelspec": {
   "display_name": "Python 3",
   "language": "python",
   "name": "python3"
  },
  "language_info": {
   "codemirror_mode": {
    "name": "ipython",
    "version": 3
   },
   "file_extension": ".py",
   "mimetype": "text/x-python",
   "name": "python",
   "nbconvert_exporter": "python",
   "pygments_lexer": "ipython3",
   "version": "3.11.6"
  }
 },
 "nbformat": 4,
 "nbformat_minor": 2
}
