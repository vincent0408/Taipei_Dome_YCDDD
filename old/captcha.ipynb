{
 "cells": [
  {
   "cell_type": "code",
   "execution_count": 29,
   "metadata": {},
   "outputs": [],
   "source": [
    "import ddddocr\n",
    "import undetected_chromedriver as uc\n",
    "from selenium.webdriver.common.by import By\n",
    "from selenium.webdriver.support.wait import WebDriverWait\n",
    "from selenium.webdriver.support import expected_conditions as EC\n",
    "import pickle\n",
    "from concurrent.futures import ThreadPoolExecutor\n",
    "import matplotlib.pyplot as plt\n",
    "import cv2\n",
    "from IPython.display import clear_output"
   ]
  },
  {
   "cell_type": "code",
   "execution_count": 30,
   "metadata": {},
   "outputs": [],
   "source": [
    "no_of_tickets = 4\n",
    "event = '23_abc30'\n",
    "url = f'https://tixcraft.com/activity/game/{event}'\n"
   ]
  },
  {
   "cell_type": "code",
   "execution_count": 31,
   "metadata": {},
   "outputs": [
    {
     "name": "stdout",
     "output_type": "stream",
     "text": [
      "2023年第30屆亞洲棒球錦標賽\n"
     ]
    }
   ],
   "source": [
    "driver = uc.Chrome()\n",
    "driver.set_window_position(2000, 0)\n",
    "driver.maximize_window()\n",
    "driver.get(url)\n",
    "print(driver.find_element(By.CSS_SELECTOR, \"h1\").text)\n",
    "driver.delete_all_cookies()\n",
    "cookies = pickle.load(open(\"cookies.pkl\", \"rb\"))\n",
    "for cookie in cookies:\n",
    "    driver.add_cookie(cookie)\n",
    "try: \n",
    "    alert_button = WebDriverWait(driver, 2).until(EC.presence_of_element_located((By.CSS_SELECTOR, \"button[class='close-alert']\")))\n",
    "    alert_button.click()\n",
    "except:\n",
    "    pass\n",
    "driver.refresh()"
   ]
  },
  {
   "cell_type": "code",
   "execution_count": 32,
   "metadata": {},
   "outputs": [],
   "source": [
    "event_priority = [\n",
    "    ['2023/12/05 (Tue.) 18:30', None, None], \n",
    "    ['2023/12/04 (Mon.) 18:30', None, None],\n",
    "    ['2023/12/06 (Wed.) 18:30', None, None],\n",
    "    ]\n",
    "event_status = None\n",
    "buy_tickets_now = ['Find tickets', '立即購票']\n",
    "wanted_section_keywords_priority = [\n",
    "    ['西E', '上'], ['西E', '下'], ['B1', '115'], ['B1', '111']\n",
    "    ]"
   ]
  },
  {
   "cell_type": "code",
   "execution_count": 33,
   "metadata": {},
   "outputs": [
    {
     "name": "stdout",
     "output_type": "stream",
     "text": [
      "Found matched event 2023/12/06 (Wed.) 18:30\n"
     ]
    }
   ],
   "source": [
    "# buy_now_button = WebDriverWait(driver, 10).until(EC.element_to_be_clickable((By.CSS_SELECTOR, \"li[class='buy'] > a\")))\n",
    "finished_choosing_events = False\n",
    "while(not finished_choosing_events):\n",
    "    # try:\n",
    "    #     buy_now_button.click()\n",
    "    # except Exception as e:\n",
    "    #     continue\n",
    "    for event_datetime, event_name, event_venue in event_priority:\n",
    "        matched_event_idx = None\n",
    "        matched_event_status_td = None\n",
    "        event_tr_lst = WebDriverWait(driver, 10).until(EC.visibility_of_all_elements_located((By.CSS_SELECTOR, \"tbody > tr\")))\n",
    "        if(matched_event_idx is None):\n",
    "            for i, tr in enumerate(event_tr_lst):\n",
    "                event_td = WebDriverWait(tr, 10).until(EC.presence_of_all_elements_located((By.CSS_SELECTOR, \"td\")))\n",
    "                datetime_match, name_match, venue_match = True, True, True\n",
    "                if(event_datetime is not None):\n",
    "                    datetime_match = (event_td[0].text == event_datetime)\n",
    "                if(event_name is not None):\n",
    "                    name_match = (event_td[1].text == event_name)\n",
    "                if(event_venue is not None):\n",
    "                    venue_match = (event_td[2].text == event_venue)\n",
    "                if(datetime_match and name_match and venue_match):\n",
    "                    matched_event_idx = i\n",
    "                    matched_event_status_td = event_td[-1]\n",
    "                    break\n",
    "        else:\n",
    "            matched_event_status_td = WebDriverWait(event_tr_lst[matched_event_idx], 10).until(EC.presence_of_all_elements_located((By.CSS_SELECTOR, \"td\")))[-1]\n",
    "        if(matched_event_status_td is None):\n",
    "            print('No matched events, should abort')\n",
    "            driver.refresh()\n",
    "            continue\n",
    "            # print('No matched events, randomly choosing now')\n",
    "            # tbd\n",
    "        else:\n",
    "            if(matched_event_status_td.text.find('Sale ended on') != -1):\n",
    "                continue\n",
    "            matched_event_status_button = WebDriverWait(matched_event_status_td, 5).until(EC.element_to_be_clickable((By.CSS_SELECTOR, \"button\")))\n",
    "            if(matched_event_status_button.text in buy_tickets_now):\n",
    "                print('Found matched event', event_datetime)\n",
    "                while(True):\n",
    "                    try:\n",
    "                        matched_event_status_button.click()\n",
    "                        finished_choosing_events = True\n",
    "                        break\n",
    "                    except Exception as e:\n",
    "                        continue\n",
    "        if(finished_choosing_events):\n",
    "            break"
   ]
  },
  {
   "cell_type": "code",
   "execution_count": 34,
   "metadata": {},
   "outputs": [
    {
     "name": "stdout",
     "output_type": "stream",
     "text": [
      "['西E', '上']\n",
      "['西E', '下']\n",
      "['B1', '115']\n"
     ]
    }
   ],
   "source": [
    "section_li_lst = WebDriverWait(driver, 10).until(EC.presence_of_all_elements_located((By.CSS_SELECTOR, \"div[class='zone area-list'] > ul > li\")))\n",
    "found_matched_section = False\n",
    "while(not found_matched_section):\n",
    "    for priority_keyword in wanted_section_keywords_priority:\n",
    "        for li in section_li_lst:\n",
    "            section_match = True\n",
    "            for kw in priority_keyword:\n",
    "                if(li.text.find(kw) == -1):\n",
    "                    section_match = False\n",
    "                    break\n",
    "            if(section_match and li.text.find('Sold out') == -1):\n",
    "                chosen_section = WebDriverWait(li, 10).until(EC.presence_of_element_located((By.CSS_SELECTOR, \"a\")))\n",
    "                while(True):\n",
    "                    try:\n",
    "                        chosen_section.click()\n",
    "                    except Exception as e:\n",
    "                        continue\n",
    "                    try:\n",
    "                        WebDriverWait(driver, 1).until(EC.alert_is_present()).accept()\n",
    "                    except Exception as e:\n",
    "                        found_matched_section = True\n",
    "                        break\n",
    "            if(found_matched_section):\n",
    "                break\n",
    "        if(found_matched_section):\n",
    "            break\n",
    "        print(priority_keyword)\n",
    "\n",
    "\n",
    "\n",
    "        "
   ]
  },
  {
   "cell_type": "code",
   "execution_count": 44,
   "metadata": {},
   "outputs": [],
   "source": [
    "def guess_captcha():\n",
    "    ocr = ddddocr.DdddOcr(show_ad=False)\n",
    "    captcha = WebDriverWait(driver, 5).until(EC.element_to_be_clickable((By.CSS_SELECTOR, \"img[id='TicketForm_verifyCode-image']\")))\n",
    "    with open('captcha.png', 'wb') as f:\n",
    "        f.write(captcha.screenshot_as_png)\n",
    "    img = cv2.imread('captcha.png', 0)\n",
    "    img = cv2.cvtColor(img, cv2.COLOR_BGR2RGB)\n",
    "    img = cv2.bitwise_not(img)\n",
    "    cv2.imwrite('captcha_processed.png', img)\n",
    "    with open('captcha_processed.png', 'rb') as f:\n",
    "        captcha_img = f.read()\n",
    "    guess = ocr.classification(captcha_img)\n",
    "    print(guess)\n",
    "    return guess\n",
    "\n",
    "def enter_captcha():\n",
    "    try:\n",
    "        captcha_guess = guess_captcha() + 'p'\n",
    "        verify_code_box = WebDriverWait(driver, 5).until(EC.presence_of_element_located((By.CSS_SELECTOR, \"input[id='TicketForm_verifyCode']\")))\n",
    "        while(True):\n",
    "            if(verify_code_box.get_attribute(\"value\") != captcha_guess):\n",
    "                verify_code_box.clear()\n",
    "                verify_code_box.send_keys(captcha_guess)\n",
    "            else:\n",
    "                break\n",
    "    except Exception as e:\n",
    "        print(f'Enter captcha failed with {e}')\n",
    "\n",
    "def agree_tos():\n",
    "    try:\n",
    "        agree_tos_checkbox = WebDriverWait(driver, 5).until(EC.visibility_of_element_located((By.CSS_SELECTOR, \"input[id='TicketForm_agree']\")))\n",
    "        while(not agree_tos_checkbox.is_selected()):\n",
    "            try: \n",
    "                agree_tos_checkbox.click() \n",
    "            except: \n",
    "                continue\n",
    "    except Exception as e: \n",
    "        print(f'Agree TOS failed with {e}')\n",
    "\n",
    "def select_quantity(ticket_quantity):\n",
    "    try:\n",
    "        choose_quantity = WebDriverWait(driver, 5).until(EC.presence_of_element_located((By.CSS_SELECTOR, f\"option[value='{ticket_quantity}']\")))\n",
    "        while(not choose_quantity.is_selected()):\n",
    "            choose_quantity.click()\n",
    "    except Exception as e:\n",
    "        print(f'Select quantity failed with {e}')"
   ]
  },
  {
   "cell_type": "code",
   "execution_count": 46,
   "metadata": {},
   "outputs": [
    {
     "name": "stdout",
     "output_type": "stream",
     "text": [
      "yuw\n"
     ]
    },
    {
     "data": {
      "image/png": "[encoded data removed]",
      "text/plain": [
       "<Figure size 640x480 with 1 Axes>"
      ]
     },
     "metadata": {},
     "output_type": "display_data"
    }
   ],
   "source": [
    "max_tries = 5\n",
    "for _ in range(max_tries):\n",
    "    clear_output(wait=True)\n",
    "    with ThreadPoolExecutor() as executor:\n",
    "        tasks = []\n",
    "        tasks.append(executor.submit(agree_tos))\n",
    "        tasks.append(executor.submit(select_quantity, no_of_tickets))\n",
    "        tasks.append(executor.submit(enter_captcha))\n",
    "    submit_button = WebDriverWait(driver, 2).until(EC.element_to_be_clickable((By.CSS_SELECTOR, \"button[class='btn btn-primary btn-green']\")))\n",
    "    plt.imshow(cv2.imread('captcha_processed.png', 0), cmap='gray')\n",
    "    plt.show()\n",
    "\n",
    "    while(True):\n",
    "        try:\n",
    "            submit_button.click()\n",
    "            break\n",
    "        except:\n",
    "            continue\n",
    "    try:\n",
    "        WebDriverWait(driver, 10).until(EC.alert_is_present()).accept()\n",
    "    except:\n",
    "        break\n",
    "    "
   ]
  },
  {
   "cell_type": "code",
   "execution_count": 48,
   "metadata": {},
   "outputs": [
    {
     "data": {
      "text/plain": [
       "0"
      ]
     },
     "execution_count": 48,
     "metadata": {},
     "output_type": "execute_result"
    }
   ],
   "source": [
    "a = 'szgvazgwse'\n",
    "a.find('')"
   ]
  },
  {
   "cell_type": "code",
   "execution_count": null,
   "metadata": {},
   "outputs": [],
   "source": []
  }
 ],
 "metadata": {
  "kernelspec": {
   "display_name": "Python 3",
   "language": "python",
   "name": "python3"
  },
  "language_info": {
   "codemirror_mode": {
    "name": "ipython",
    "version": 3
   },
   "file_extension": ".py",
   "mimetype": "text/x-python",
   "name": "python",
   "nbconvert_exporter": "python",
   "pygments_lexer": "ipython3",
   "version": "3.11.6"
  }
 },
 "nbformat": 4,
 "nbformat_minor": 2
}
