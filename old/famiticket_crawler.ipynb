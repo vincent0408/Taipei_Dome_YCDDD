{
 "cells": [
  {
   "cell_type": "code",
   "execution_count": 77,
   "metadata": {},
   "outputs": [],
   "source": [
    "import ddddocr\n",
    "import undetected_chromedriver as uc\n",
    "from selenium.webdriver.common.by import By\n",
    "from selenium.webdriver.support.wait import WebDriverWait\n",
    "from selenium.webdriver.support import expected_conditions as EC\n",
    "from selenium.webdriver.chrome.options import Options\n",
    "import pickle\n",
    "from concurrent.futures import ThreadPoolExecutor\n",
    "import cv2\n",
    "import numpy as np\n",
    "import io\n",
    "from PIL import Image\n",
    "import time\n",
    "import argparse"
   ]
  },
  {
   "cell_type": "code",
   "execution_count": 78,
   "metadata": {},
   "outputs": [],
   "source": [
    "url='https://www.famiticket.com.tw/Home/User/SignIn'\n",
    "event = 'T1 臺北戰神2023-24主場例行賽'\n",
    "options = Options()\n",
    "\n",
    "options.add_argument(\"--incognito\")\n",
    "driver = uc.Chrome(options=options)\n",
    "driver.get(url)\n"
   ]
  },
  {
   "cell_type": "code",
   "execution_count": 79,
   "metadata": {},
   "outputs": [],
   "source": [
    "with open('./famiticket_credentials') as f:\n",
    "    email, password = [cred.strip().split('=')[-1] for cred in f.readlines()]"
   ]
  },
  {
   "cell_type": "code",
   "execution_count": 80,
   "metadata": {},
   "outputs": [],
   "source": [
    "email_input = WebDriverWait(driver, 10).until(EC.presence_of_element_located((By.CSS_SELECTOR, \"input[id='usr_act']\")))\n",
    "email_input.clear()\n",
    "email_input.send_keys(email)\n",
    "password_input = WebDriverWait(driver, 10).until(EC.presence_of_element_located((By.CSS_SELECTOR, \"input[id='usr_pwd']\")))\n",
    "password_input.clear()\n",
    "password_input.send_keys(password)\n",
    "login_button = WebDriverWait(driver, 10).until(EC.presence_of_element_located((By.CSS_SELECTOR, \"button[id='btnLogin']\")))\n",
    "while(True):\n",
    "    try:\n",
    "        login_button.click()\n",
    "        break\n",
    "    except:\n",
    "        pass"
   ]
  },
  {
   "cell_type": "code",
   "execution_count": 81,
   "metadata": {},
   "outputs": [],
   "source": [
    "event_div_lst= WebDriverWait(driver, 10).until(EC.presence_of_all_elements_located((By.CSS_SELECTOR, \"div[class='card__overlay-text']\")))\n",
    "for div in event_div_lst:\n",
    "    if(div.get_attribute('innerHTML').strip() == event):\n",
    "        matched_event_div = div\n",
    "while(True):\n",
    "    matched_event_a = WebDriverWait(matched_event_div, 10).until(EC.presence_of_element_located((By.XPATH, \"../../../..\")))\n",
    "    try:\n",
    "        matched_event_a.click()\n",
    "        break\n",
    "    except Exception as e:\n",
    "        pass\n"
   ]
  },
  {
   "cell_type": "code",
   "execution_count": 82,
   "metadata": {},
   "outputs": [],
   "source": [
    "buy_now_button = WebDriverWait(driver, 10).until(EC.presence_of_element_located((By.CSS_SELECTOR, \"button[id='buyWaiting']\")))\n",
    "while(True):\n",
    "    try:\n",
    "        buy_now_button.click()\n",
    "        break\n",
    "    except:\n",
    "        pass"
   ]
  },
  {
   "cell_type": "code",
   "execution_count": 83,
   "metadata": {},
   "outputs": [],
   "source": [
    "event_priority = [\n",
    "    ['2023.12.30 (六) 14:00', None, None, None]\n",
    "    ]\n",
    "wanted_section_keywords_priority = [['']]"
   ]
  },
  {
   "cell_type": "code",
   "execution_count": 84,
   "metadata": {},
   "outputs": [
    {
     "ename": "TimeoutException",
     "evalue": "Message: \n",
     "output_type": "error",
     "traceback": [
      "\u001b[0;31m---------------------------------------------------------------------------\u001b[0m",
      "\u001b[0;31mTimeoutException\u001b[0m                          Traceback (most recent call last)",
      "\u001b[1;32m/Users/vincent/Documents/Github/Taipei_Dome_YCDDD/famiticket_crawler.ipynb Cell 8\u001b[0m line \u001b[0;36m1\n\u001b[0;32m----> <a href='vscode-notebook-cell:/Users/vincent/Documents/Github/Taipei_Dome_YCDDD/famiticket_crawler.ipynb#X13sZmlsZQ%3D%3D?line=0'>1</a>\u001b[0m event_tr_lst \u001b[39m=\u001b[39m WebDriverWait(driver, \u001b[39m10\u001b[39;49m)\u001b[39m.\u001b[39;49muntil(EC\u001b[39m.\u001b[39;49mvisibility_of_all_elements_located((By\u001b[39m.\u001b[39;49mCSS_SELECTOR, \u001b[39m\"\u001b[39;49m\u001b[39mtbody > tr\u001b[39;49m\u001b[39m\"\u001b[39;49m)))\n\u001b[1;32m      <a href='vscode-notebook-cell:/Users/vincent/Documents/Github/Taipei_Dome_YCDDD/famiticket_crawler.ipynb#X13sZmlsZQ%3D%3D?line=2'>3</a>\u001b[0m finished_choosing_events \u001b[39m=\u001b[39m \u001b[39mFalse\u001b[39;00m\n\u001b[1;32m      <a href='vscode-notebook-cell:/Users/vincent/Documents/Github/Taipei_Dome_YCDDD/famiticket_crawler.ipynb#X13sZmlsZQ%3D%3D?line=3'>4</a>\u001b[0m \u001b[39mwhile\u001b[39;00m(\u001b[39mnot\u001b[39;00m finished_choosing_events):\n",
      "File \u001b[0;32m/Library/Frameworks/Python.framework/Versions/3.10/lib/python3.10/site-packages/selenium/webdriver/support/wait.py:101\u001b[0m, in \u001b[0;36mWebDriverWait.until\u001b[0;34m(self, method, message)\u001b[0m\n\u001b[1;32m     99\u001b[0m     \u001b[39mif\u001b[39;00m time\u001b[39m.\u001b[39mmonotonic() \u001b[39m>\u001b[39m end_time:\n\u001b[1;32m    100\u001b[0m         \u001b[39mbreak\u001b[39;00m\n\u001b[0;32m--> 101\u001b[0m \u001b[39mraise\u001b[39;00m TimeoutException(message, screen, stacktrace)\n",
      "\u001b[0;31mTimeoutException\u001b[0m: Message: \n"
     ]
    }
   ],
   "source": [
    "event_tr_lst = WebDriverWait(driver, 10).until(EC.visibility_of_all_elements_located((By.CSS_SELECTOR, \"tbody > tr\")))\n",
    "\n",
    "finished_choosing_events = False\n",
    "while(not finished_choosing_events):\n",
    "    for event_datetime, event_name, event_combination, event_venue in event_priority:\n",
    "        print('Now trying', event_datetime, event_name, event_combination, event_venue)\n",
    "        matched_event_idx = None\n",
    "        for i, event_tr in enumerate(event_tr_lst):\n",
    "            event_td_lst = WebDriverWait(event_tr, 10).until(EC.presence_of_all_elements_located((By.CSS_SELECTOR, \"td\")))\n",
    "            datetime_match, name_match, combination_match, venue_match = True, True, True, True\n",
    "            if(event_datetime is not None):\n",
    "                datetime_match = (event_td_lst[0].text == event_datetime)\n",
    "            if(event_name is not None):\n",
    "                name_match = (event_td_lst[1].text == event_name)\n",
    "            if(event_combination is not None):\n",
    "                combination_match = (event_td_lst[2].text == event_venue)\n",
    "            if(event_venue is not None):\n",
    "                venue_match = (event_td_lst[3].text == event_venue)\n",
    "            if(datetime_match and name_match and venue_match):\n",
    "                matched_event_idx = i\n",
    "                matched_event_status_td = event_td_lst[-1]\n",
    "                break\n",
    "        if(matched_event_idx is not None):\n",
    "            current_status = matched_event_status_td.text\n",
    "            if(current_status.find('立即購買') != -1):\n",
    "                print('Found matched event', event_datetime, event_name, event_combination, event_venue)\n",
    "                while(True):\n",
    "                    try:\n",
    "                        matched_event_status_td.click()\n",
    "                        finished_choosing_events = True\n",
    "                        break\n",
    "                    except Exception as e:\n",
    "                        continue\n",
    "            elif(current_status.find('Sale starts at') != -1):\n",
    "                print(current_status, ', refreshing...', sep='')\n",
    "                time.sleep(.5)\n",
    "                driver.refresh()\n",
    "                break\n",
    "            elif(current_status.find('Sale ended on') != -1):\n",
    "                continue\n",
    "        else:\n",
    "            print('No matched events, should abort')\n",
    "            driver.refresh()\n",
    "            continue\n",
    "        if(finished_choosing_events):\n",
    "            break\n"
   ]
  }
 ],
 "metadata": {
  "kernelspec": {
   "display_name": "Python 3",
   "language": "python",
   "name": "python3"
  },
  "language_info": {
   "codemirror_mode": {
    "name": "ipython",
    "version": 3
   },
   "file_extension": ".py",
   "mimetype": "text/x-python",
   "name": "python",
   "nbconvert_exporter": "python",
   "pygments_lexer": "ipython3",
   "version": "3.10.8"
  }
 },
 "nbformat": 4,
 "nbformat_minor": 2
}
